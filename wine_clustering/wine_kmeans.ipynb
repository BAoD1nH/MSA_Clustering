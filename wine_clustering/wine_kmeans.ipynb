{
 "cells": [
  {
   "cell_type": "code",
   "execution_count": null,
   "id": "3bd154e6",
   "metadata": {},
   "outputs": [],
   "source": [
    "# wine_kmeans_clustering.py\n",
    "\n",
    "import numpy as np\n",
    "import matplotlib.pyplot as plt\n",
    "from sklearn.datasets import load_wine\n",
    "from sklearn.preprocessing import StandardScaler\n",
    "from sklearn.decomposition import PCA\n",
    "from sklearn.cluster import KMeans\n",
    "from sklearn.metrics import adjusted_rand_score\n"
   ]
  },
  {
   "cell_type": "code",
   "execution_count": null,
   "id": "0ae47e11",
   "metadata": {},
   "outputs": [],
   "source": [
    "# 1. Load dữ liệu Wine\n",
    "data = load_wine()\n",
    "X = data.data  # shape (178, 13)\n",
    "y_true = data.target  # ground truth labels (0, 1, 2)\n",
    "\n",
    "# 2. Chuẩn hóa dữ liệu\n",
    "scaler = StandardScaler()\n",
    "X_scaled = scaler.fit_transform(X)\n",
    "\n",
    "# 3. Áp dụng KMeans\n",
    "k = 3  # vì Wine dataset có 3 class thật\n",
    "kmeans = KMeans(n_clusters=k, random_state=42, n_init='auto')\n",
    "kmeans.fit(X_scaled)\n",
    "clusters = kmeans.labels_\n",
    "\n",
    "# 4. PCA để giảm chiều xuống 2D\n",
    "pca = PCA(n_components=2)\n",
    "X_pca = pca.fit_transform(X_scaled)\n",
    "\n",
    "# 5. Trực quan hóa kết quả phân cụm\n",
    "plt.figure(figsize=(8, 6))\n",
    "plt.scatter(X_pca[:, 0], X_pca[:, 1], c=clusters, cmap='tab10', s=50)\n",
    "plt.title(f\"KMeans Clustering trên Wine (k = {k})\")\n",
    "plt.xlabel(\"PC1\")\n",
    "plt.ylabel(\"PC2\")\n",
    "plt.grid(True)\n",
    "plt.tight_layout()\n",
    "plt.show()\n",
    "\n",
    "# 6. Trực quan hóa nhãn thật\n",
    "plt.figure(figsize=(8, 6))\n",
    "plt.scatter(X_pca[:, 0], X_pca[:, 1], c=y_true, cmap='Set1', s=50)\n",
    "plt.title(\"Ground Truth Labels (Wine)\")\n",
    "plt.xlabel(\"PC1\")\n",
    "plt.ylabel(\"PC2\")\n",
    "plt.grid(True)\n",
    "plt.tight_layout()\n",
    "plt.show()\n",
    "\n",
    "# 7. Đánh giá bằng Adjusted Rand Index\n",
    "ari = adjusted_rand_score(y_true, clusters)\n",
    "print(f\"Adjusted Rand Index (ARI): {ari:.4f}\")\n"
   ]
  }
 ],
 "metadata": {
  "language_info": {
   "name": "python"
  }
 },
 "nbformat": 4,
 "nbformat_minor": 5
}
