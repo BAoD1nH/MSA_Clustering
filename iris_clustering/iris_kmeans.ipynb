{
 "cells": [
  {
   "cell_type": "code",
   "execution_count": null,
   "id": "63d752c8",
   "metadata": {},
   "outputs": [],
   "source": [
    "# kmeans_clustering.py\n",
    "\n",
    "import numpy as np\n",
    "import pandas as pd\n",
    "import matplotlib.pyplot as plt\n",
    "from sklearn.datasets import load_iris\n",
    "from sklearn.preprocessing import StandardScaler\n",
    "from sklearn.decomposition import PCA\n",
    "from sklearn.cluster import KMeans\n",
    "from sklearn.metrics import adjusted_rand_score"
   ]
  },
  {
   "cell_type": "code",
   "execution_count": null,
   "id": "63795ca3",
   "metadata": {},
   "outputs": [],
   "source": [
    "\n",
    "# 1. Load dữ liệu (có thể đổi sang Wine hoặc dataset khác)\n",
    "data = load_iris()\n",
    "X = data.data\n",
    "y_true = data.target\n",
    "feature_names = data.feature_names\n",
    "\n",
    "# 2. Chuẩn hóa dữ liệu\n",
    "scaler = StandardScaler()\n",
    "X_scaled = scaler.fit_transform(X)\n",
    "\n",
    "# 3. Áp dụng KMeans\n",
    "k = 3  # số cụm\n",
    "kmeans = KMeans(n_clusters=k, random_state=42, n_init='auto')\n",
    "kmeans.fit(X_scaled)\n",
    "clusters = kmeans.labels_\n",
    "\n",
    "# 4. PCA để giảm chiều xuống 2D\n",
    "pca = PCA(n_components=2)\n",
    "X_pca = pca.fit_transform(X_scaled)\n",
    "\n",
    "# 5. Vẽ phân cụm KMeans\n",
    "plt.figure(figsize=(8, 6))\n",
    "plt.scatter(X_pca[:, 0], X_pca[:, 1], c=clusters, cmap='tab10', s=50)\n",
    "plt.title(f\"KMeans Clustering (k = {k})\")\n",
    "plt.xlabel(\"PC1\")\n",
    "plt.ylabel(\"PC2\")\n",
    "plt.grid(True)\n",
    "plt.tight_layout()\n",
    "plt.show()\n",
    "\n",
    "# 6. Vẽ nhãn thật (nếu có)\n",
    "plt.figure(figsize=(8, 6))\n",
    "plt.scatter(X_pca[:, 0], X_pca[:, 1], c=y_true, cmap='Set1', s=50)\n",
    "plt.title(\"Ground Truth Labels\")\n",
    "plt.xlabel(\"PC1\")\n",
    "plt.ylabel(\"PC2\")\n",
    "plt.grid(True)\n",
    "plt.tight_layout()\n",
    "plt.show()\n",
    "\n",
    "# 7. Đánh giá bằng ARI (Adjusted Rand Index)\n",
    "ari = adjusted_rand_score(y_true, clusters)\n",
    "print(f\"Adjusted Rand Index (ARI): {ari:.4f}\")\n"
   ]
  }
 ],
 "metadata": {
  "language_info": {
   "name": "python"
  }
 },
 "nbformat": 4,
 "nbformat_minor": 5
}
